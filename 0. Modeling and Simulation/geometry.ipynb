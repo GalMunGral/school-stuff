{
 "cells": [
  {
   "cell_type": "code",
   "execution_count": 1,
   "metadata": {},
   "outputs": [],
   "source": [
    "from sympy import *\n",
    "from gravipy import * "
   ]
  },
  {
   "cell_type": "code",
   "execution_count": 8,
   "metadata": {},
   "outputs": [
    {
     "name": "stdout",
     "output_type": "stream",
     "text": [
      "Coordinates: \\psi \\theta \\phi\n"
     ]
    }
   ],
   "source": [
    "# Define coordinates\n",
    "psi, theta, phi = symbols('\\psi, \\\\theta, \\phi')\n",
    "x = Coordinates('\\chi', [psi, theta, phi])\n",
    "print('Coordinates:', x(-1), x(-2), x(-3))"
   ]
  },
  {
   "cell_type": "code",
   "execution_count": 23,
   "metadata": {},
   "outputs": [
    {
     "name": "stdout",
     "output_type": "stream",
     "text": [
      "Matrix([[1, 0, 0], [0, sin(\\psi)**2, 0], [0, 0, sin(\\psi)**2*sin(\\theta)**2]])\n"
     ]
    }
   ],
   "source": [
    "# Define metric\n",
    "Metric = diag(1, sin(psi)**2, sin(psi)**2 * sin(theta)**2)\n",
    "g = MetricTensor('g', x, Metric)\n",
    "print(g(All, All))"
   ]
  },
  {
   "cell_type": "code",
   "execution_count": 33,
   "metadata": {
    "scrolled": false
   },
   "outputs": [
    {
     "name": "stdout",
     "output_type": "stream",
     "text": [
      "Gamma^{1}_{1, 1} = 0\n",
      "Gamma^{1}_{1, 2} = 0\n",
      "Gamma^{1}_{1, 3} = 0\n",
      "Gamma^{1}_{2, 1} = 0\n",
      "Gamma^{1}_{2, 2} = -sin(2*\\psi)/2\n",
      "Gamma^{1}_{2, 3} = 0\n",
      "Gamma^{1}_{3, 1} = 0\n",
      "Gamma^{1}_{3, 2} = 0\n",
      "Gamma^{1}_{3, 3} = -sin(\\psi)*sin(\\theta)**2*cos(\\psi)\n",
      "Gamma^{2}_{1, 1} = 0\n",
      "Gamma^{2}_{1, 2} = sin(2*\\psi)/(2*sin(\\psi)**2)\n",
      "Gamma^{2}_{1, 3} = 0\n",
      "Gamma^{2}_{2, 1} = sin(2*\\psi)/(2*sin(\\psi)**2)\n",
      "Gamma^{2}_{2, 2} = 0\n",
      "Gamma^{2}_{2, 3} = 0\n",
      "Gamma^{2}_{3, 1} = 0\n",
      "Gamma^{2}_{3, 2} = 0\n",
      "Gamma^{2}_{3, 3} = -sin(\\theta)*cos(\\theta)\n",
      "Gamma^{3}_{1, 1} = 0\n",
      "Gamma^{3}_{1, 2} = 0\n",
      "Gamma^{3}_{1, 3} = cos(\\psi)/sin(\\psi)\n",
      "Gamma^{3}_{2, 1} = 0\n",
      "Gamma^{3}_{2, 2} = 0\n",
      "Gamma^{3}_{2, 3} = cos(\\theta)/sin(\\theta)\n",
      "Gamma^{3}_{3, 1} = cos(\\psi)/sin(\\psi)\n",
      "Gamma^{3}_{3, 2} = cos(\\theta)/sin(\\theta)\n",
      "Gamma^{3}_{3, 3} = 0\n"
     ]
    }
   ],
   "source": [
    "# Compute Christoffel symbols\n",
    "Gamma = Christoffel('Gamma', g)\n",
    "for i in range(1, 4):\n",
    "    for j in range(1, 4):\n",
    "        for k in range(1, 4):\n",
    "            print('Gamma^{%d}_{%d, %d} = %s' % (i, j, k, Gamma(-i,j,k)))"
   ]
  },
  {
   "cell_type": "code",
   "execution_count": 41,
   "metadata": {},
   "outputs": [
    {
     "name": "stdout",
     "output_type": "stream",
     "text": [
      "R_{1,1,1,1} = 0\n",
      "R_{1,1,1,2} = 0\n",
      "R_{1,1,1,3} = 0\n",
      "R_{1,1,2,1} = 0\n",
      "R_{1,1,2,2} = 0\n",
      "R_{1,1,2,3} = 0\n",
      "R_{1,1,3,1} = 0\n",
      "R_{1,1,3,2} = 0\n",
      "R_{1,1,3,3} = 0\n",
      "R_{1,2,1,1} = 0\n",
      "R_{1,2,1,2} = sin(\\psi)**2\n",
      "R_{1,2,1,3} = 0\n",
      "R_{1,2,2,1} = -sin(\\psi)**2\n",
      "R_{1,2,2,2} = 0\n",
      "R_{1,2,2,3} = 0\n",
      "R_{1,2,3,1} = 0\n",
      "R_{1,2,3,2} = 0\n",
      "R_{1,2,3,3} = 0\n",
      "R_{1,3,1,1} = 0\n",
      "R_{1,3,1,2} = 0\n",
      "R_{1,3,1,3} = sin(\\psi)**2*sin(\\theta)**2\n",
      "R_{1,3,2,1} = 0\n",
      "R_{1,3,2,2} = 0\n",
      "R_{1,3,2,3} = 0\n",
      "R_{1,3,3,1} = -sin(\\psi)**2*sin(\\theta)**2\n",
      "R_{1,3,3,2} = 0\n",
      "R_{1,3,3,3} = 0\n",
      "R_{2,1,1,1} = 0\n",
      "R_{2,1,1,2} = -sin(\\psi)**2\n",
      "R_{2,1,1,3} = 0\n",
      "R_{2,1,2,1} = sin(\\psi)**2\n",
      "R_{2,1,2,2} = 0\n",
      "R_{2,1,2,3} = 0\n",
      "R_{2,1,3,1} = 0\n",
      "R_{2,1,3,2} = 0\n",
      "R_{2,1,3,3} = 0\n",
      "R_{2,2,1,1} = 0\n",
      "R_{2,2,1,2} = 0\n",
      "R_{2,2,1,3} = 0\n",
      "R_{2,2,2,1} = 0\n",
      "R_{2,2,2,2} = 0\n",
      "R_{2,2,2,3} = 0\n",
      "R_{2,2,3,1} = 0\n",
      "R_{2,2,3,2} = 0\n",
      "R_{2,2,3,3} = 0\n",
      "R_{2,3,1,1} = 0\n",
      "R_{2,3,1,2} = 0\n",
      "R_{2,3,1,3} = 0\n",
      "R_{2,3,2,1} = 0\n",
      "R_{2,3,2,2} = 0\n",
      "R_{2,3,2,3} = sin(\\psi)**4*sin(\\theta)**2\n",
      "R_{2,3,3,1} = 0\n",
      "R_{2,3,3,2} = -sin(\\psi)**4*sin(\\theta)**2\n",
      "R_{2,3,3,3} = 0\n",
      "R_{3,1,1,1} = 0\n",
      "R_{3,1,1,2} = 0\n",
      "R_{3,1,1,3} = -sin(\\psi)**2*sin(\\theta)**2\n",
      "R_{3,1,2,1} = 0\n",
      "R_{3,1,2,2} = 0\n",
      "R_{3,1,2,3} = 0\n",
      "R_{3,1,3,1} = sin(\\psi)**2*sin(\\theta)**2\n",
      "R_{3,1,3,2} = 0\n",
      "R_{3,1,3,3} = 0\n",
      "R_{3,2,1,1} = 0\n",
      "R_{3,2,1,2} = 0\n",
      "R_{3,2,1,3} = 0\n",
      "R_{3,2,2,1} = 0\n",
      "R_{3,2,2,2} = 0\n",
      "R_{3,2,2,3} = -sin(\\psi)**4*sin(\\theta)**2\n",
      "R_{3,2,3,1} = 0\n",
      "R_{3,2,3,2} = sin(\\psi)**4*sin(\\theta)**2\n",
      "R_{3,2,3,3} = 0\n",
      "R_{3,3,1,1} = 0\n",
      "R_{3,3,1,2} = 0\n",
      "R_{3,3,1,3} = 0\n",
      "R_{3,3,2,1} = 0\n",
      "R_{3,3,2,2} = 0\n",
      "R_{3,3,2,3} = 0\n",
      "R_{3,3,3,1} = 0\n",
      "R_{3,3,3,2} = 0\n",
      "R_{3,3,3,3} = 0\n"
     ]
    }
   ],
   "source": [
    "# Compute Riemann curvature tensor\n",
    "Rm = Riemann('Rm', g)\n",
    "for i in range(1, 4):\n",
    "    for j in range(1, 4):\n",
    "        for k in range(1, 4):\n",
    "            for l in range(1, 4):\n",
    "                print('R_{%d,%d,%d,%d} = %s' % (i, j, k, l, Rm(i,j,k,l)))"
   ]
  },
  {
   "cell_type": "code",
   "execution_count": 42,
   "metadata": {},
   "outputs": [
    {
     "name": "stdout",
     "output_type": "stream",
     "text": [
      "Ricci_{1,1} = 2\n",
      "Ricci_{1,2} = 0\n",
      "Ricci_{1,3} = 0\n",
      "Ricci_{2,1} = 0\n",
      "Ricci_{2,2} = 2*sin(\\psi)**2\n",
      "Ricci_{2,3} = 0\n",
      "Ricci_{3,1} = 0\n",
      "Ricci_{3,2} = 0\n",
      "Ricci_{3,3} = 2*sin(\\psi)**2*sin(\\theta)**2\n"
     ]
    }
   ],
   "source": [
    "# Compute Ricci tensor\n",
    "Ri = Ricci('Ri', g)\n",
    "for i in range(1, 4):\n",
    "    for j in range(1, 4):\n",
    "        print('Ricci_{%d,%d} = %s' % (i, j, Ri(i,j)))"
   ]
  },
  {
   "cell_type": "code",
   "execution_count": null,
   "metadata": {},
   "outputs": [],
   "source": []
  }
 ],
 "metadata": {
  "kernelspec": {
   "display_name": "Python 3",
   "language": "python",
   "name": "python3"
  },
  "language_info": {
   "codemirror_mode": {
    "name": "ipython",
    "version": 3
   },
   "file_extension": ".py",
   "mimetype": "text/x-python",
   "name": "python",
   "nbconvert_exporter": "python",
   "pygments_lexer": "ipython3",
   "version": "3.7.1"
  }
 },
 "nbformat": 4,
 "nbformat_minor": 2
}
