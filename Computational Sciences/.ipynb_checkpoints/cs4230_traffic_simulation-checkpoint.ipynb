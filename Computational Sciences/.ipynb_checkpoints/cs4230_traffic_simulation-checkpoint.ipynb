{
 "cells": [
  {
   "cell_type": "code",
   "execution_count": 60,
   "metadata": {},
   "outputs": [],
   "source": [
    "# IMPORTS AND PARAMETERS\n",
    "import threading, random, queue, functools, time\n",
    "from collections import deque\n",
    "import matplotlib.pyplot as plt\n",
    "\n",
    "random.seed(9)\n",
    "WE_pass_init = [False, False, True, False]\n",
    "MAX_ITER = 5000\n",
    "DEBUG = False\n",
    "DEBUG_S = False\n",
    "LIGHT_SWITCHING_INTERVAL = 120\n",
    "print_lock = threading.Lock()\n",
    "\n",
    "def m_print(*msg):\n",
    "    with print_lock:\n",
    "        print(*msg)"
   ]
  },
  {
   "cell_type": "code",
   "execution_count": 61,
   "metadata": {},
   "outputs": [],
   "source": [
    "# EVENT SYSTEM\n",
    "@functools.total_ordering\n",
    "class Event:\n",
    "    def __init__(self, time, f):\n",
    "        self.time = time\n",
    "        self.f = f\n",
    "\n",
    "    def __eq__(self, other):\n",
    "        return self.time == other.time\n",
    "\n",
    "    def __lt__(self, other):\n",
    "        return self.time < other.time\n",
    "\n",
    "class Scheduler(threading.Thread):\n",
    "    def __init__(self): \n",
    "        super().__init__()\n",
    "        self.time = 0\n",
    "        self.event_queue = queue.PriorityQueue()\n",
    "        self.lock = threading.Lock()\n",
    "        self.cv = threading.Condition()\n",
    "        self.notified = {}\n",
    "        \n",
    "    def schedule(self, event, time):\n",
    "        with self.lock:\n",
    "            self.event_queue.put(Event(self.time + time, event))\n",
    "    \n",
    "    def run(self):\n",
    "        while not (self.event_queue.empty() and Lane.all_lanes_clear()):\n",
    "            next_event = self.event_queue.get()\n",
    "            self.time = next_event.time\n",
    "            if DEBUG or DEBUG_S:\n",
    "                m_print(threading.get_ident(), '>>> time = %f' % self.time)\n",
    "                m_print(next_event.f, next_event.time)\n",
    "            # next_event.f()\n",
    "            threading.Thread(target=next_event.f).start()\n",
    "            # !!!! WAIT FOR EVERYTHING TO BE PROCESS BEFORE PROCEEDING\n",
    "            with self.cv:\n",
    "                while any(pending for pending in self.notified.values()):\n",
    "                    if DEBUG or DEBUG_S:\n",
    "                        m_print(threading.get_ident(), '>>> scheduler waiting...')\n",
    "#                         m_print(self.notified)\n",
    "                    self.notified[threading.get_ident()] = False\n",
    "                    self.cv.notify()     \n",
    "                    self.cv.wait()\n",
    "            if DEBUG or DEBUG_S:\n",
    "                m_print(threading.get_ident(), '>>> scheduler continues')\n",
    "            self.notified = {}        \n",
    "        print('DONE')\n",
    "            \n",
    "scheduler = Scheduler()"
   ]
  },
  {
   "cell_type": "code",
   "execution_count": 62,
   "metadata": {},
   "outputs": [],
   "source": [
    "# ROAD MODEL\n",
    "class Lane:\n",
    "    \n",
    "    @staticmethod \n",
    "    def all_lanes_clear():\n",
    "        \n",
    "        get_all_lanes = lambda i: i.incoming + (i.lanes if hasattr(i, 'lanes') else [])\n",
    "            \n",
    "        all_lanes = (\n",
    "            get_all_lanes(peachtree_and_10th) + \n",
    "            get_all_lanes(peachtree_and_11th) +\n",
    "            get_all_lanes(peachtree_and_12th) +\n",
    "            get_all_lanes(peachtree_and_14th)\n",
    "        )\n",
    "        all_lanes.append(lane_13th_street)\n",
    "        return all(len(lane.queue) == 0 for lane in all_lanes)\n",
    "\n",
    "    def __init__(self, direction, capacity=20, intersection_name=''):\n",
    "        self.direction = direction\n",
    "        self.capacity = capacity\n",
    "        self.intersection_name = intersection_name\n",
    "        self.queue = deque()\n",
    "        self.allow_pass = False\n",
    "        self.cv = threading.Condition()\n",
    "        self.listening_threads = []\n",
    "        self.timestamps = []\n",
    "        self.history = []\n",
    "        self.action_history = []\n",
    "    \n",
    "    def enqueue(self, vehicle):\n",
    "        with self.cv:\n",
    "            while not len(self.queue) < self.capacity:\n",
    "                self.listening_threads.append(threading.get_ident())\n",
    "                with scheduler.cv:\n",
    "                    scheduler.notified[threading.get_ident()] = False\n",
    "                    scheduler.cv.notify()\n",
    "                if DEBUG:\n",
    "                    m_print('enqueue', 'waiting...')\n",
    "                self.cv.wait()\n",
    "            if DEBUG:\n",
    "                m_print('enqueue', 'continued')\n",
    "            self.queue.append(vehicle)\n",
    "            self.timestamps.append(scheduler.time)\n",
    "            self.history.append(len(self.queue))\n",
    "            self.action_history.append('en')\n",
    "        if not vehicle.waiting_to_turn:\n",
    "            scheduler.schedule(lambda: vehicle.wait_for_light(), 15)\n",
    "    \n",
    "    def dequeue(self):\n",
    "        pass\n",
    "            \n",
    "    def insert(self, vehicle):\n",
    "        with self.cv:\n",
    "            while not len(self.queue) < self.capacity:\n",
    "                self.listening_threads.append(threading.get_ident())\n",
    "                with scheduler.cv:\n",
    "                    scheduler.notified[threading.get_ident()] = False\n",
    "                    scheduler.cv.notify()\n",
    "                if DEBUG:\n",
    "                    m_print('insert', 'waiting...')\n",
    "                self.cv.wait()\n",
    "            if DEBUG:\n",
    "                m_print('insert', 'continued')\n",
    "            self.queue.insert(random.randint(0,len(self.queue)), vehicle)\n",
    "            self.timestamps.append(scheduler.time)\n",
    "            self.history.append(len(self.queue))\n",
    "            self.action_history.append('in')\n",
    "        if not vehicle.waiting_to_turn:\n",
    "            scheduler.schedule(lambda: vehicle.wait_for_light(), 15)\n",
    "\n",
    "    def remove(self, vehicle):\n",
    "        with self.cv:\n",
    "            self.queue.remove(vehicle)\n",
    "            self.timestamps.append(scheduler.time)\n",
    "            self.history.append(len(self.queue))\n",
    "            self.action_history.append('rm')\n",
    "            for thread in self.listening_threads:\n",
    "                scheduler.notified[thread] = True\n",
    "            self.cv.notify_all()\n",
    "            self.listening_threads = []\n",
    "    \n",
    "    def notify_next(self):\n",
    "        with self.cv:\n",
    "            if len(self.queue) == 0:\n",
    "                return\n",
    "            v = self.queue[0]\n",
    "            if v.ident:\n",
    "                with v.cv:\n",
    "                    scheduler.notified[v.ident] = True\n",
    "                    v.cv.notify()\n",
    "\n",
    "lane_13th_street = Lane('W-E', 10, intersection_name='Peachtree & 13th')"
   ]
  },
  {
   "cell_type": "code",
   "execution_count": 63,
   "metadata": {},
   "outputs": [],
   "source": [
    "# INTERSECTION MODEL\n",
    "class Intersection:    \n",
    "    def __init__(self, name, lane_cap=[], first=False, last=False, WE_pass=False):\n",
    "        super().__init__()\n",
    "        self.name = name\n",
    "        self.first = first\n",
    "        self.last = last\n",
    "        if not first:\n",
    "            self.lanes = list(map(lambda c: Lane('N-S', c, intersection_name=name), lane_cap))\n",
    "        self.incoming = [\n",
    "            Lane('W-E', 50, intersection_name=name),\n",
    "            Lane('N-S', 50, intersection_name=name)\n",
    "        ] # [W-E, S]\n",
    "        self.WE_pass = WE_pass\n",
    "            \n",
    "    # TODO: Notify after several seconds of delay\n",
    "    \n",
    "    def change_light(self):\n",
    "        self.WE_pass = not self.WE_pass\n",
    "        if DEBUG:\n",
    "            m_print('[CONTROL]', self.name, 'change_light', 'W-E' if self.WE_pass else 'N-S')\n",
    "\n",
    "        if self.WE_pass and not self.last:\n",
    "            # Traffic from n-th St. enters\n",
    "            self.incoming[0].allow_pass = True\n",
    "            self.incoming[0].notify_next()\n",
    "            if self.first:\n",
    "                self.incoming[1].allow_pass = False\n",
    "            else:\n",
    "                for lane in self.lanes:\n",
    "                    lane.allow_pass = False\n",
    "        else:\n",
    "            # Traffic along Peachtree St. enters\n",
    "            self.incoming[0].allow_pass = False\n",
    "            if self.first:\n",
    "                self.incoming[1].allow_pass = True\n",
    "                self.incoming[1].notify_next()\n",
    "            else:\n",
    "                for lane in self.lanes:\n",
    "                    lane.allow_pass = True\n",
    "                    lane.notify_next()\n",
    "\n",
    "        if scheduler.time < MAX_ITER or not Lane.all_lanes_clear():\n",
    "            scheduler.schedule(lambda: self.change_light(), LIGHT_SWITCHING_INTERVAL)\n",
    "\n",
    "peachtree_and_10th = Intersection(\"Peachtree & 10th\", first=True, WE_pass=WE_pass_init[0])\n",
    "peachtree_and_11th = Intersection(\"Peachtree & 11th\", [30, 60, 60], WE_pass=WE_pass_init[1])\n",
    "peachtree_and_12th = Intersection(\"Peachtree & 12th\", [30, 60, 60], WE_pass=WE_pass_init[2])\n",
    "peachtree_and_14th = Intersection(\"Peachtree & 14th\", [30, 100, 100], WE_pass=WE_pass_init[3])"
   ]
  },
  {
   "cell_type": "code",
   "execution_count": 64,
   "metadata": {},
   "outputs": [],
   "source": [
    "# VEHICLE PROCESSES\n",
    "total_time = []\n",
    "vehicle_ids = []\n",
    "\n",
    "class Vehicle(threading.Thread):\n",
    "    vehicle_id = 112358\n",
    "    \n",
    "    def __init__(self, entry, init_lane=None): \n",
    "        super().__init__()\n",
    "        # 0 - 10th St, 1 - 11th St, etc.\n",
    "        self.entry = entry\n",
    "        self.cur_lane = init_lane\n",
    "        self.direction = 0\n",
    "        self.ready = True\n",
    "        self.waiting_to_turn = False\n",
    "        self.cv = threading.Condition()\n",
    "        self.id = Vehicle.vehicle_id\n",
    "        Vehicle.vehicle_id += 1\n",
    "        \n",
    "    \n",
    "    def run(self):\n",
    "        self.start_time = scheduler.time\n",
    "        with self.cv:\n",
    "            if self.entry < 1:\n",
    "                while (\n",
    "                    not self.cur_lane.allow_pass or\n",
    "                    not self.ready or self.waiting_to_turn\n",
    "                ):\n",
    "                    with scheduler.cv:\n",
    "                        scheduler.notified[threading.get_ident()] = False\n",
    "                        scheduler.cv.notify()\n",
    "                    if DEBUG:\n",
    "                        m_print(self.ident, 'waiting...')\n",
    "                    self.cv.wait()\n",
    "                    if DEBUG:\n",
    "                        m_print(self.ident, 'notified')\n",
    "                        m_print(self.cur_lane.intersection_name)\n",
    "                        m_print('self.cur_lane.allow_pass=', self.cur_lane.allow_pass)\n",
    "                        m_print('self.ready=', self.ready)\n",
    "                        m_print('self.waiting_to_turn=', self.waiting_to_turn)\n",
    "                if DEBUG:\n",
    "                    m_print(self.ident, 'continued')\n",
    "                self.enter(peachtree_and_11th)\n",
    "            if self.entry < 2:\n",
    "                while (\n",
    "                    not self.cur_lane.allow_pass or\n",
    "                    not self.ready or self.waiting_to_turn\n",
    "                ):\n",
    "                    with scheduler.cv:\n",
    "                        scheduler.notified[threading.get_ident()] = False\n",
    "                        scheduler.cv.notify()\n",
    "                    if DEBUG:\n",
    "                        m_print(self.ident, 'waiting...')\n",
    "                    self.cv.wait()\n",
    "                    if DEBUG:\n",
    "                        m_print(self.ident, 'notified')\n",
    "                        m_print(self.cur_lane.intersection_name)\n",
    "                        m_print('self.cur_lane.allow_pass=', self.cur_lane.allow_pass)\n",
    "                        m_print('self.ready=', self.ready)\n",
    "                        m_print('self.waiting_to_turn=', self.waiting_to_turn)\n",
    "                if DEBUG:\n",
    "                    m_print(self.ident, 'continues')\n",
    "                if self.direction:\n",
    "                    self.exit()\n",
    "                    return\n",
    "                self.enter(peachtree_and_12th)\n",
    "            if self.entry == 3:\n",
    "                self.enter(peachtree_and_14th, random_pos=True)\n",
    "            else:\n",
    "                while (\n",
    "                    not self.cur_lane.allow_pass or\n",
    "                    not self.ready or self.waiting_to_turn\n",
    "                ):\n",
    "                    with scheduler.cv:\n",
    "                        scheduler.notified[threading.get_ident()] = False\n",
    "                        scheduler.cv.notify()\n",
    "                    if DEBUG:\n",
    "                        m_print(self.ident, 'waiting...')\n",
    "                    self.cv.wait()\n",
    "                    if DEBUG:\n",
    "                        m_print(self.ident, 'notified')\n",
    "                        m_print(self.cur_lane.intersection_name)\n",
    "                        m_print('self.cur_lane.allow_pass=', self.cur_lane.allow_pass)\n",
    "                        m_print('self.ready=', self.ready)\n",
    "                        m_print('self.waiting_to_turn=', self.waiting_to_turn)\n",
    "                if DEBUG:\n",
    "                    m_print(self.ident, 'continued')\n",
    "                if self.direction:\n",
    "                    self.exit()\n",
    "                    return\n",
    "                self.enter(peachtree_and_14th)\n",
    "            while (\n",
    "                not self.cur_lane.allow_pass or\n",
    "                not self.ready or self.waiting_to_turn\n",
    "            ):\n",
    "                with scheduler.cv:\n",
    "                    scheduler.notified[threading.get_ident()] = False\n",
    "                    scheduler.cv.notify()\n",
    "                if DEBUG:\n",
    "                    m_print(self.ident, 'waiting...')\n",
    "                self.cv.wait()\n",
    "                if DEBUG:\n",
    "                    m_print(self.ident, 'notified')\n",
    "                    m_print(self.cur_lane.intersection_name)\n",
    "                    m_print('self.cur_lane.allow_pass=', self.cur_lane.allow_pass)\n",
    "                    m_print('self.ready=', self.ready)\n",
    "                    m_print('self.waiting_to_turn=', self.waiting_to_turn)\n",
    "            if DEBUG:\n",
    "                m_print(self.ident, 'continued')\n",
    "            self.exit()\n",
    "    \n",
    "    def enter(self, intersection, random_pos=False):\n",
    "        self.direction = random.choice([-1, 0, 0, 0, 0, 1])\n",
    "        if self.direction == -1:\n",
    "            next_lane = intersection.lanes[1]\n",
    "            left_lane = intersection.lanes[0]\n",
    "            self.waiting_to_turn = True\n",
    "        else:\n",
    "            if len(intersection.lanes[1].queue) < len(intersection.lanes[2].queue):\n",
    "                next_lane = intersection.lanes[1]\n",
    "            else:\n",
    "                next_lane = intersection.lanes[2]\n",
    "        self.cur_lane.remove(self)\n",
    "        previous_lane = self.cur_lane\n",
    "\n",
    "        with next_lane.cv:\n",
    "            while not len(next_lane.queue) < next_lane.capacity:\n",
    "                with scheduler.cv:\n",
    "                    scheduler.notified[threading.get_ident()] = False\n",
    "                    scheduler.cv.notify()\n",
    "                if DEBUG:\n",
    "                    m_print(self.ident, 'enter', 'waiting...')\n",
    "                next_lane.cv.wait()  \n",
    "            if DEBUG:\n",
    "                m_print(self.ident, 'enter', 'continued')\n",
    "            if previous_lane.allow_pass:\n",
    "                scheduler.schedule(lambda: previous_lane.notify_next(), 2)\n",
    "            self.cur_lane = next_lane\n",
    "            self.ready = False\n",
    "            if random_pos:\n",
    "                self.cur_lane.insert(self)\n",
    "            else:\n",
    "                self.cur_lane.enqueue(self)             \n",
    "            if self.waiting_to_turn:\n",
    "                scheduler.schedule(lambda: self.change_lane(left_lane), 5) \n",
    "        if DEBUG:\n",
    "            m_print(self.ident, 'enter', intersection.name)\n",
    "            \n",
    "    def change_lane(self, left_lane):\n",
    "        if DEBUG:\n",
    "            m_print(self.ident, 'change_lane @', self.cur_lane.intersection_name)      \n",
    "        with left_lane.cv:\n",
    "            while not len(left_lane.queue) < left_lane.capacity:\n",
    "                with scheduler.cv:\n",
    "                    scheduler.notified[threading.get_ident()] = False\n",
    "                    scheduler.cv.notify()\n",
    "                if DEBUG:\n",
    "                    m_print(self.ident, 'change_lane', 'waiting...')\n",
    "                left_lane.cv.wait()\n",
    "            if DEBUG:\n",
    "                m_print(self.ident, 'change_lane', 'continued')\n",
    "            self.waiting_to_turn = False\n",
    "            self.cur_lane.remove(self)\n",
    "            self.cur_lane = left_lane\n",
    "            self.cur_lane.enqueue(self)\n",
    "    \n",
    "    def wait_for_light(self):\n",
    "        if DEBUG:\n",
    "            m_print(self.ident, 'wait_for_light @',\n",
    "                  self.cur_lane.intersection_name, self.cur_lane.direction)\n",
    "        self.ready = True\n",
    "\n",
    "    def exit(self):\n",
    "        if DEBUG:\n",
    "            m_print(self.ident, 'exit')\n",
    "        self.cur_lane.remove(self)\n",
    "        total_time.append(scheduler.time - self.start_time)\n",
    "        vehicle_ids.append(self.id)\n",
    "        with scheduler.cv:\n",
    "            scheduler.notified[self.ident] = False\n",
    "            scheduler.cv.notify()"
   ]
  },
  {
   "cell_type": "code",
   "execution_count": 65,
   "metadata": {},
   "outputs": [],
   "source": [
    "# INPUT PROCESS\n",
    "class TrafficGenerator(threading.Thread):\n",
    "    \n",
    "    def run(self):\n",
    "        if DEBUG:\n",
    "            m_print(threading.get_ident(), 'Start generating traffic...')\n",
    "        intxns = [peachtree_and_10th, peachtree_and_11th, peachtree_and_12th]\n",
    "        for i, intxn in enumerate(intxns):\n",
    "            self.spawn_vehicle(intxn, i)\n",
    "        self.spawn_vehicle_on(lane_13th_street, 3)\n",
    "    \n",
    "    def spawn_vehicle_on(self, lane, entry):\n",
    "        if DEBUG:\n",
    "            m_print(threading.get_ident(), 'spawn_vehicle_on')\n",
    "        if len(lane.queue) < lane.capacity:\n",
    "            vehicle = Vehicle(entry, init_lane=lane)\n",
    "            lane.enqueue(vehicle)\n",
    "            if DEBUG:\n",
    "                m_print(threading.get_ident(), 'Spawned a vehicle')\n",
    "            vehicle.start()\n",
    "        if scheduler.time < MAX_ITER:\n",
    "            # Random interarrival time\n",
    "            time_before_next = random.randrange(600, 1200) if entry == 3 else random.randrange(2,10)\n",
    "            scheduler.schedule(lambda: self.spawn_vehicle_on(lane, entry), time_before_next)\n",
    "        \n",
    "    def spawn_vehicle(self, intxn, entry):    \n",
    "        if DEBUG:\n",
    "            m_print(threading.get_ident(), 'spawn_vehicle')\n",
    "        self.spawn_vehicle_on(intxn.incoming[0], entry)\n",
    "        if intxn.first:\n",
    "            self.spawn_vehicle_on(intxn.incoming[1], entry)\n",
    "            \n",
    "traffic = TrafficGenerator()"
   ]
  },
  {
   "cell_type": "code",
   "execution_count": 66,
   "metadata": {
    "scrolled": true
   },
   "outputs": [],
   "source": [
    "# STARTS SIMULATION\n",
    "scheduler.schedule(lambda: peachtree_and_10th.change_light(), 0)\n",
    "scheduler.schedule(lambda: peachtree_and_11th.change_light(), 0)\n",
    "scheduler.schedule(lambda: peachtree_and_12th.change_light(), 0)\n",
    "scheduler.schedule(lambda: peachtree_and_14th.change_light(), 0)\n",
    "scheduler.schedule(lambda: traffic.start(), 10)\n",
    "scheduler.start()\n",
    "# scheduler.join(timeout=5.00)"
   ]
  },
  {
   "cell_type": "code",
   "execution_count": 70,
   "metadata": {},
   "outputs": [
    {
     "name": "stdout",
     "output_type": "stream",
     "text": [
      "DONE\n"
     ]
    },
    {
     "data": {
      "image/png": "[encoded data removed]",
      "text/plain": [
       "<Figure size 1080x144 with 1 Axes>"
      ]
     },
     "metadata": {
      "needs_background": "light"
     },
     "output_type": "display_data"
    },
    {
     "data": {
      "image/png": "[encoded data removed]",
      "text/plain": [
       "<Figure size 1080x144 with 1 Axes>"
      ]
     },
     "metadata": {
      "needs_background": "light"
     },
     "output_type": "display_data"
    },
    {
     "data": {
      "image/png": "[encoded data removed]",
      "text/plain": [
       "<Figure size 1080x144 with 1 Axes>"
      ]
     },
     "metadata": {
      "needs_background": "light"
     },
     "output_type": "display_data"
    },
    {
     "data": {
      "image/png": "[encoded data removed]",
      "text/plain": [
       "<Figure size 1080x144 with 1 Axes>"
      ]
     },
     "metadata": {
      "needs_background": "light"
     },
     "output_type": "display_data"
    }
   ],
   "source": [
    "# PLOTS\n",
    "lanes = ['left', 'middle', 'right']\n",
    "\n",
    "plt.figure(figsize=(15,2))\n",
    "plt.title('Peachtree & 11th')\n",
    "for i in range(3):\n",
    "    plt.plot(peachtree_and_11th.lanes[i].timestamps, peachtree_and_11th.lanes[i].history, '.', label=lanes[i])\n",
    "plt.ylabel('# Vehicles')\n",
    "plt.xlabel('Simulation time')\n",
    "plt.legend()\n",
    "\n",
    "plt.figure(figsize=(15,2))\n",
    "plt.title('Peachtree & 12th')\n",
    "for i in range(3):\n",
    "    plt.plot(peachtree_and_12th.lanes[i].timestamps, peachtree_and_12th.lanes[i].history, '.', label=lanes[i])\n",
    "plt.ylabel('# Vehicles')\n",
    "plt.xlabel('Simulation time')\n",
    "plt.legend()\n",
    "\n",
    "plt.figure(figsize=(15,2))\n",
    "plt.title('Peachtree & 14th')\n",
    "for i in range(3):\n",
    "    plt.plot(peachtree_and_14th.lanes[i].timestamps, peachtree_and_14th.lanes[i].history, '.', label=lanes[i])\n",
    "plt.ylabel('# Vehicles')\n",
    "plt.xlabel('Simulation time')\n",
    "plt.legend()\n",
    "\n",
    "plt.figure(figsize=(15,2))\n",
    "plt.title('Total Travel Time per Vehicle')\n",
    "\n",
    "plt.ylabel('Time Spent')\n",
    "plt.xlabel('Vehicle ID')\n",
    "plt.plot(vehicle_ids ,total_time, 'o')\n",
    "\n",
    "\n",
    "\n",
    "plt.grid()"
   ]
  },
  {
   "cell_type": "code",
   "execution_count": 51,
   "metadata": {},
   "outputs": [
    {
     "data": {
      "text/plain": [
       "deque([])"
      ]
     },
     "execution_count": 51,
     "metadata": {},
     "output_type": "execute_result"
    }
   ],
   "source": [
    "peachtree_and_14th.lanes[0].queue"
   ]
  },
  {
   "cell_type": "code",
   "execution_count": 45,
   "metadata": {},
   "outputs": [
    {
     "data": {
      "text/plain": [
       "deque([])"
      ]
     },
     "execution_count": 45,
     "metadata": {},
     "output_type": "execute_result"
    }
   ],
   "source": [
    "lane_13th_street.queue"
   ]
  },
  {
   "cell_type": "code",
   "execution_count": 43,
   "metadata": {},
   "outputs": [
    {
     "data": {
      "text/plain": [
       "False"
      ]
     },
     "execution_count": 43,
     "metadata": {},
     "output_type": "execute_result"
    }
   ],
   "source": [
    "any(pending for pending in scheduler.notified.values())"
   ]
  },
  {
   "cell_type": "code",
   "execution_count": 12,
   "metadata": {},
   "outputs": [
    {
     "data": {
      "text/plain": [
       "140512545695488"
      ]
     },
     "execution_count": 12,
     "metadata": {},
     "output_type": "execute_result"
    }
   ],
   "source": [
    "scheduler.ident"
   ]
  },
  {
   "cell_type": "code",
   "execution_count": 46,
   "metadata": {},
   "outputs": [
    {
     "data": {
      "text/plain": [
       "{}"
      ]
     },
     "execution_count": 46,
     "metadata": {},
     "output_type": "execute_result"
    }
   ],
   "source": [
    "scheduler.notified"
   ]
  },
  {
   "cell_type": "code",
   "execution_count": 53,
   "metadata": {},
   "outputs": [],
   "source": [
    "with peachtree_and_11th.lanes[0].cv:\n",
    "    peachtree_and_11th.lanes[0].cv.notify()"
   ]
  },
  {
   "cell_type": "code",
   "execution_count": 54,
   "metadata": {},
   "outputs": [
    {
     "data": {
      "text/plain": [
       "[]"
      ]
     },
     "execution_count": 54,
     "metadata": {},
     "output_type": "execute_result"
    }
   ],
   "source": [
    "list(map(lambda a: (a.f, a.time), scheduler.event_queue.queue))"
   ]
  },
  {
   "cell_type": "code",
   "execution_count": 55,
   "metadata": {},
   "outputs": [],
   "source": [
    "def test():\n",
    "    return 1\n",
    "\n",
    "scheduler.schedule(test, 0.1)"
   ]
  },
  {
   "cell_type": "code",
   "execution_count": 56,
   "metadata": {},
   "outputs": [
    {
     "data": {
      "text/plain": [
       "(<function __main__.test()>, 118800.1)"
      ]
     },
     "execution_count": 56,
     "metadata": {},
     "output_type": "execute_result"
    }
   ],
   "source": [
    "a = scheduler.event_queue.get()\n",
    "(a.f, a.time)"
   ]
  },
  {
   "cell_type": "code",
   "execution_count": 57,
   "metadata": {},
   "outputs": [
    {
     "data": {
      "text/plain": [
       "<Condition(<unlocked _thread.RLock object owner=0 count=0 at 0x7fcb9c32ad80>, 0)>"
      ]
     },
     "execution_count": 57,
     "metadata": {},
     "output_type": "execute_result"
    }
   ],
   "source": [
    "scheduler.cv"
   ]
  },
  {
   "cell_type": "code",
   "execution_count": 19,
   "metadata": {
    "scrolled": true
   },
   "outputs": [
    {
     "name": "stdout",
     "output_type": "stream",
     "text": [
      "<Condition(<locked _thread.RLock object owner=140513402709824 count=1 at 0x7fcba0bc72d0>, 0)>\n"
     ]
    }
   ],
   "source": [
    "with scheduler.cv:\n",
    "    print(scheduler.cv)"
   ]
  },
  {
   "cell_type": "code",
   "execution_count": 20,
   "metadata": {},
   "outputs": [
    {
     "data": {
      "text/plain": [
       "577"
      ]
     },
     "execution_count": 20,
     "metadata": {},
     "output_type": "execute_result"
    }
   ],
   "source": [
    "scheduler.time"
   ]
  },
  {
   "cell_type": "code",
   "execution_count": 21,
   "metadata": {},
   "outputs": [
    {
     "data": {
      "text/plain": [
       "[1,\n",
       " 2,\n",
       " 1,\n",
       " 2,\n",
       " 1,\n",
       " 2,\n",
       " 1,\n",
       " 2,\n",
       " 3,\n",
       " 4,\n",
       " 5,\n",
       " 6,\n",
       " 7,\n",
       " 8,\n",
       " 7,\n",
       " 8,\n",
       " 9,\n",
       " 8,\n",
       " 7,\n",
       " 8,\n",
       " 9,\n",
       " 10,\n",
       " 9,\n",
       " 10,\n",
       " 9,\n",
       " 10,\n",
       " 11,\n",
       " 10,\n",
       " 11,\n",
       " 12,\n",
       " 13,\n",
       " 12,\n",
       " 13,\n",
       " 12,\n",
       " 13,\n",
       " 12,\n",
       " 13,\n",
       " 12,\n",
       " 13,\n",
       " 12,\n",
       " 13,\n",
       " 14,\n",
       " 15,\n",
       " 14,\n",
       " 13,\n",
       " 14,\n",
       " 15,\n",
       " 16,\n",
       " 15,\n",
       " 16,\n",
       " 17,\n",
       " 16,\n",
       " 17,\n",
       " 18,\n",
       " 19,\n",
       " 20,\n",
       " 21,\n",
       " 22,\n",
       " 23,\n",
       " 22,\n",
       " 23,\n",
       " 24,\n",
       " 25,\n",
       " 26,\n",
       " 27,\n",
       " 28,\n",
       " 27,\n",
       " 28,\n",
       " 27,\n",
       " 28]"
      ]
     },
     "execution_count": 21,
     "metadata": {},
     "output_type": "execute_result"
    }
   ],
   "source": [
    "peachtree_and_11th.lanes[1].history"
   ]
  },
  {
   "cell_type": "code",
   "execution_count": 47,
   "metadata": {},
   "outputs": [
    {
     "data": {
      "text/plain": [
       "[<_MainThread(MainThread, started 140513402709824)>,\n",
       " <Thread(Thread-2, started daemon 140513232316160)>,\n",
       " <Heartbeat(Thread-3, started daemon 140513223923456)>,\n",
       " <HistorySavingThread(IPythonHistorySavingThread, started 140512992417536)>,\n",
       " <ParentPollerUnix(Thread-1, started daemon 140512984024832)>]"
      ]
     },
     "execution_count": 47,
     "metadata": {},
     "output_type": "execute_result"
    }
   ],
   "source": [
    "import threading\n",
    "threading.enumerate()"
   ]
  },
  {
   "cell_type": "code",
   "execution_count": 59,
   "metadata": {},
   "outputs": [
    {
     "data": {
      "text/plain": [
       "deque([])"
      ]
     },
     "execution_count": 59,
     "metadata": {},
     "output_type": "execute_result"
    }
   ],
   "source": [
    "peachtree_and_11th.lanes[0].queue"
   ]
  },
  {
   "cell_type": "markdown",
   "metadata": {},
   "source": [
    "# peachtree_and_12th.lanes"
   ]
  },
  {
   "cell_type": "code",
   "execution_count": null,
   "metadata": {},
   "outputs": [],
   "source": [
    "Lane.all_lanes_clear()"
   ]
  },
  {
   "cell_type": "code",
   "execution_count": null,
   "metadata": {},
   "outputs": [],
   "source": []
  },
  {
   "cell_type": "code",
   "execution_count": null,
   "metadata": {},
   "outputs": [],
   "source": []
  }
 ],
 "metadata": {
  "kernelspec": {
   "display_name": "Python 3",
   "language": "python",
   "name": "python3"
  },
  "language_info": {
   "codemirror_mode": {
    "name": "ipython",
    "version": 3
   },
   "file_extension": ".py",
   "mimetype": "text/x-python",
   "name": "python",
   "nbconvert_exporter": "python",
   "pygments_lexer": "ipython3",
   "version": "3.6.7"
  }
 },
 "nbformat": 4,
 "nbformat_minor": 2
}
